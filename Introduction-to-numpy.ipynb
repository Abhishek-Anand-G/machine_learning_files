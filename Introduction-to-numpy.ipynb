{
 "cells": [
  {
   "cell_type": "code",
   "execution_count": 1,
   "id": "13abcb81",
   "metadata": {},
   "outputs": [],
   "source": [
    "import numpy as np"
   ]
  },
  {
   "cell_type": "code",
   "execution_count": 2,
   "id": "9b28e047",
   "metadata": {},
   "outputs": [
    {
     "data": {
      "text/plain": [
       "array([1, 2, 3])"
      ]
     },
     "execution_count": 2,
     "metadata": {},
     "output_type": "execute_result"
    }
   ],
   "source": [
    "a1=np.array([1,2,3])\n",
    "a1"
   ]
  },
  {
   "cell_type": "code",
   "execution_count": 3,
   "id": "90c561f7",
   "metadata": {},
   "outputs": [
    {
     "data": {
      "text/plain": [
       "1"
      ]
     },
     "execution_count": 3,
     "metadata": {},
     "output_type": "execute_result"
    }
   ],
   "source": [
    "a1.ndim"
   ]
  },
  {
   "cell_type": "code",
   "execution_count": 4,
   "id": "3852eb30",
   "metadata": {},
   "outputs": [
    {
     "data": {
      "text/plain": [
       "array([[1, 2, 3],\n",
       "       [4, 5, 6],\n",
       "       [6, 7, 8]])"
      ]
     },
     "execution_count": 4,
     "metadata": {},
     "output_type": "execute_result"
    }
   ],
   "source": [
    "a2=np.array([[1,2,3],\n",
    "             [4,5,6],\n",
    "             [6,7,8]])\n",
    "a2"
   ]
  },
  {
   "cell_type": "code",
   "execution_count": 5,
   "id": "9c3c91ab",
   "metadata": {},
   "outputs": [
    {
     "data": {
      "text/plain": [
       "2"
      ]
     },
     "execution_count": 5,
     "metadata": {},
     "output_type": "execute_result"
    }
   ],
   "source": [
    "a2.ndim"
   ]
  },
  {
   "cell_type": "code",
   "execution_count": 6,
   "id": "b9bc8195",
   "metadata": {},
   "outputs": [
    {
     "data": {
      "text/plain": [
       "(dtype('int32'), dtype('int32'))"
      ]
     },
     "execution_count": 6,
     "metadata": {},
     "output_type": "execute_result"
    }
   ],
   "source": [
    "a1.dtype,a2.dtype"
   ]
  },
  {
   "cell_type": "code",
   "execution_count": 7,
   "id": "0b53af53",
   "metadata": {},
   "outputs": [
    {
     "data": {
      "text/plain": [
       "3"
      ]
     },
     "execution_count": 7,
     "metadata": {},
     "output_type": "execute_result"
    }
   ],
   "source": [
    "a1.size"
   ]
  },
  {
   "cell_type": "code",
   "execution_count": 8,
   "id": "efd11465",
   "metadata": {},
   "outputs": [],
   "source": [
    "import pandas as pd"
   ]
  },
  {
   "cell_type": "code",
   "execution_count": 9,
   "id": "4de425e2",
   "metadata": {},
   "outputs": [
    {
     "data": {
      "text/html": [
       "<div>\n",
       "<style scoped>\n",
       "    .dataframe tbody tr th:only-of-type {\n",
       "        vertical-align: middle;\n",
       "    }\n",
       "\n",
       "    .dataframe tbody tr th {\n",
       "        vertical-align: top;\n",
       "    }\n",
       "\n",
       "    .dataframe thead th {\n",
       "        text-align: right;\n",
       "    }\n",
       "</style>\n",
       "<table border=\"1\" class=\"dataframe\">\n",
       "  <thead>\n",
       "    <tr style=\"text-align: right;\">\n",
       "      <th></th>\n",
       "      <th>0</th>\n",
       "      <th>1</th>\n",
       "      <th>2</th>\n",
       "    </tr>\n",
       "  </thead>\n",
       "  <tbody>\n",
       "    <tr>\n",
       "      <th>0</th>\n",
       "      <td>1</td>\n",
       "      <td>2</td>\n",
       "      <td>3</td>\n",
       "    </tr>\n",
       "    <tr>\n",
       "      <th>1</th>\n",
       "      <td>4</td>\n",
       "      <td>5</td>\n",
       "      <td>6</td>\n",
       "    </tr>\n",
       "    <tr>\n",
       "      <th>2</th>\n",
       "      <td>6</td>\n",
       "      <td>7</td>\n",
       "      <td>8</td>\n",
       "    </tr>\n",
       "  </tbody>\n",
       "</table>\n",
       "</div>"
      ],
      "text/plain": [
       "   0  1  2\n",
       "0  1  2  3\n",
       "1  4  5  6\n",
       "2  6  7  8"
      ]
     },
     "execution_count": 9,
     "metadata": {},
     "output_type": "execute_result"
    }
   ],
   "source": [
    "df=pd.DataFrame(a2)\n",
    "df"
   ]
  },
  {
   "cell_type": "code",
   "execution_count": 10,
   "id": "53043a5a",
   "metadata": {},
   "outputs": [],
   "source": [
    " ones=np.ones((2,3),dtype=int)"
   ]
  },
  {
   "cell_type": "code",
   "execution_count": 11,
   "id": "2df2f7d5",
   "metadata": {},
   "outputs": [
    {
     "data": {
      "text/plain": [
       "array([[1, 1, 1],\n",
       "       [1, 1, 1]])"
      ]
     },
     "execution_count": 11,
     "metadata": {},
     "output_type": "execute_result"
    }
   ],
   "source": [
    "ones"
   ]
  },
  {
   "cell_type": "code",
   "execution_count": 12,
   "id": "f17b815a",
   "metadata": {},
   "outputs": [],
   "source": [
    " range_array=np.arange(2,20,4)"
   ]
  },
  {
   "cell_type": "code",
   "execution_count": 13,
   "id": "3cae76c7",
   "metadata": {},
   "outputs": [
    {
     "data": {
      "text/plain": [
       "array([ 2,  6, 10, 14, 18])"
      ]
     },
     "execution_count": 13,
     "metadata": {},
     "output_type": "execute_result"
    }
   ],
   "source": [
    "range_array"
   ]
  },
  {
   "cell_type": "code",
   "execution_count": 14,
   "id": "1b687d46",
   "metadata": {},
   "outputs": [
    {
     "data": {
      "text/plain": [
       "array([[0.5488135 , 0.71518937, 0.60276338],\n",
       "       [0.54488318, 0.4236548 , 0.64589411]])"
      ]
     },
     "execution_count": 14,
     "metadata": {},
     "output_type": "execute_result"
    }
   ],
   "source": [
    "np.random.seed(0)\n",
    "random_array=np.random.random((2,3))\n",
    "random_array"
   ]
  },
  {
   "cell_type": "code",
   "execution_count": 15,
   "id": "bfabbf0c",
   "metadata": {},
   "outputs": [],
   "source": [
    "random_array_2=np.random.randint(0,12,size=(2,3))"
   ]
  },
  {
   "cell_type": "code",
   "execution_count": 16,
   "id": "9f79d370",
   "metadata": {},
   "outputs": [
    {
     "data": {
      "text/plain": [
       "array([[ 4,  7,  6],\n",
       "       [ 8,  8, 10]])"
      ]
     },
     "execution_count": 16,
     "metadata": {},
     "output_type": "execute_result"
    }
   ],
   "source": [
    "random_array_2"
   ]
  },
  {
   "cell_type": "markdown",
   "id": "ea613c70",
   "metadata": {},
   "source": [
    "## 3. viewing array and matrices"
   ]
  },
  {
   "cell_type": "code",
   "execution_count": 17,
   "id": "16176394",
   "metadata": {},
   "outputs": [],
   "source": [
    "a3=np.array([  [[1,2,3],\n",
    "                [2,4,6],\n",
    "                [6,7,9]],\n",
    "               [[2,3,4],\n",
    "                [4,2,5],\n",
    "                [5,6,7]]  ])"
   ]
  },
  {
   "cell_type": "code",
   "execution_count": 18,
   "id": "836c3cda",
   "metadata": {},
   "outputs": [
    {
     "data": {
      "text/plain": [
       "array([[[1, 2, 3],\n",
       "        [2, 4, 6],\n",
       "        [6, 7, 9]],\n",
       "\n",
       "       [[2, 3, 4],\n",
       "        [4, 2, 5],\n",
       "        [5, 6, 7]]])"
      ]
     },
     "execution_count": 18,
     "metadata": {},
     "output_type": "execute_result"
    }
   ],
   "source": [
    "a3"
   ]
  },
  {
   "cell_type": "code",
   "execution_count": 19,
   "id": "bb19b557",
   "metadata": {},
   "outputs": [
    {
     "data": {
      "text/plain": [
       "array([[1, 2, 3],\n",
       "       [2, 4, 6],\n",
       "       [6, 7, 9]])"
      ]
     },
     "execution_count": 19,
     "metadata": {},
     "output_type": "execute_result"
    }
   ],
   "source": [
    "a3[0]"
   ]
  },
  {
   "cell_type": "code",
   "execution_count": 20,
   "id": "f43fbec4",
   "metadata": {},
   "outputs": [
    {
     "data": {
      "text/plain": [
       "(2, 3, 3)"
      ]
     },
     "execution_count": 20,
     "metadata": {},
     "output_type": "execute_result"
    }
   ],
   "source": [
    "a3.shape"
   ]
  },
  {
   "cell_type": "code",
   "execution_count": 21,
   "id": "9559f13e",
   "metadata": {},
   "outputs": [
    {
     "data": {
      "text/plain": [
       "array([[[1, 2, 3],\n",
       "        [2, 4, 6],\n",
       "        [6, 7, 9]],\n",
       "\n",
       "       [[2, 3, 4],\n",
       "        [4, 2, 5],\n",
       "        [5, 6, 7]]])"
      ]
     },
     "execution_count": 21,
     "metadata": {},
     "output_type": "execute_result"
    }
   ],
   "source": [
    "a3"
   ]
  },
  {
   "cell_type": "code",
   "execution_count": 22,
   "id": "b0695a62",
   "metadata": {},
   "outputs": [
    {
     "data": {
      "text/plain": [
       "array([[[1, 2]],\n",
       "\n",
       "       [[2, 3]]])"
      ]
     },
     "execution_count": 22,
     "metadata": {},
     "output_type": "execute_result"
    }
   ],
   "source": [
    "a3[:2,:1,:2]"
   ]
  },
  {
   "cell_type": "code",
   "execution_count": 23,
   "id": "11fd498b",
   "metadata": {},
   "outputs": [
    {
     "data": {
      "text/plain": [
       "array([[[[1, 6, 7, 7, 8],\n",
       "         [1, 5, 9, 8, 9],\n",
       "         [4, 3, 0, 3, 5],\n",
       "         [0, 2, 3, 8, 1]],\n",
       "\n",
       "        [[3, 3, 3, 7, 0],\n",
       "         [1, 9, 9, 0, 4],\n",
       "         [7, 3, 2, 7, 2],\n",
       "         [0, 0, 4, 5, 5]],\n",
       "\n",
       "        [[6, 8, 4, 1, 4],\n",
       "         [9, 8, 1, 1, 7],\n",
       "         [9, 9, 3, 6, 7],\n",
       "         [2, 0, 3, 5, 9]]],\n",
       "\n",
       "\n",
       "       [[[4, 4, 6, 4, 4],\n",
       "         [3, 4, 4, 8, 4],\n",
       "         [3, 7, 5, 5, 0],\n",
       "         [1, 5, 9, 3, 0]],\n",
       "\n",
       "        [[5, 0, 1, 2, 4],\n",
       "         [2, 0, 3, 2, 0],\n",
       "         [7, 5, 9, 0, 2],\n",
       "         [7, 2, 9, 2, 3]],\n",
       "\n",
       "        [[3, 2, 3, 4, 1],\n",
       "         [2, 9, 1, 4, 6],\n",
       "         [8, 2, 3, 0, 0],\n",
       "         [6, 0, 6, 3, 3]]]])"
      ]
     },
     "execution_count": 23,
     "metadata": {},
     "output_type": "execute_result"
    }
   ],
   "source": [
    "a4=np.random.randint(10,size=(2,3,4,5))\n",
    "a4"
   ]
  },
  {
   "cell_type": "code",
   "execution_count": 24,
   "id": "abcc5668",
   "metadata": {},
   "outputs": [
    {
     "data": {
      "text/plain": [
       "array([[[[1, 6, 7, 7]],\n",
       "\n",
       "        [[3, 3, 3, 7]],\n",
       "\n",
       "        [[6, 8, 4, 1]]],\n",
       "\n",
       "\n",
       "       [[[4, 4, 6, 4]],\n",
       "\n",
       "        [[5, 0, 1, 2]],\n",
       "\n",
       "        [[3, 2, 3, 4]]]])"
      ]
     },
     "execution_count": 24,
     "metadata": {},
     "output_type": "execute_result"
    }
   ],
   "source": [
    "a4[:2,:3,:1,:4]"
   ]
  },
  {
   "cell_type": "markdown",
   "id": "c71e27d6",
   "metadata": {},
   "source": [
    "## 4. manipulate and compare different array"
   ]
  },
  {
   "cell_type": "code",
   "execution_count": 25,
   "id": "19c10e66",
   "metadata": {},
   "outputs": [
    {
     "data": {
      "text/plain": [
       "array([1, 2, 3])"
      ]
     },
     "execution_count": 25,
     "metadata": {},
     "output_type": "execute_result"
    }
   ],
   "source": [
    "a1\n"
   ]
  },
  {
   "cell_type": "code",
   "execution_count": 26,
   "id": "0cb1a73d",
   "metadata": {},
   "outputs": [
    {
     "data": {
      "text/plain": [
       "array([1., 1., 1.])"
      ]
     },
     "execution_count": 26,
     "metadata": {},
     "output_type": "execute_result"
    }
   ],
   "source": [
    "ones=np.ones(3)\n",
    "ones"
   ]
  },
  {
   "cell_type": "code",
   "execution_count": 27,
   "id": "ceb7d9da",
   "metadata": {},
   "outputs": [
    {
     "data": {
      "text/plain": [
       "array([2, 3, 4])"
      ]
     },
     "execution_count": 27,
     "metadata": {},
     "output_type": "execute_result"
    }
   ],
   "source": [
    "a1+1"
   ]
  },
  {
   "cell_type": "code",
   "execution_count": 28,
   "id": "9aeb7167",
   "metadata": {},
   "outputs": [
    {
     "data": {
      "text/plain": [
       "array([0, 1, 2])"
      ]
     },
     "execution_count": 28,
     "metadata": {},
     "output_type": "execute_result"
    }
   ],
   "source": [
    "a1-1"
   ]
  },
  {
   "cell_type": "code",
   "execution_count": 29,
   "id": "0cbf0cf6",
   "metadata": {},
   "outputs": [
    {
     "data": {
      "text/plain": [
       "array([2, 4, 6])"
      ]
     },
     "execution_count": 29,
     "metadata": {},
     "output_type": "execute_result"
    }
   ],
   "source": [
    "a1*2"
   ]
  },
  {
   "cell_type": "code",
   "execution_count": 30,
   "id": "ed95112f",
   "metadata": {},
   "outputs": [
    {
     "data": {
      "text/plain": [
       "array([[1, 2, 3],\n",
       "       [4, 5, 6],\n",
       "       [6, 7, 8]])"
      ]
     },
     "execution_count": 30,
     "metadata": {},
     "output_type": "execute_result"
    }
   ],
   "source": [
    "       a2"
   ]
  },
  {
   "cell_type": "code",
   "execution_count": 31,
   "id": "ba5b797a",
   "metadata": {},
   "outputs": [
    {
     "data": {
      "text/plain": [
       "array([[ 1,  4,  9],\n",
       "       [ 4, 10, 18],\n",
       "       [ 6, 14, 24]])"
      ]
     },
     "execution_count": 31,
     "metadata": {},
     "output_type": "execute_result"
    }
   ],
   "source": [
    "a1*a2"
   ]
  },
  {
   "cell_type": "code",
   "execution_count": 32,
   "id": "e3a53cee",
   "metadata": {
    "scrolled": true
   },
   "outputs": [
    {
     "data": {
      "text/plain": [
       "array([[[1, 2, 3],\n",
       "        [2, 4, 6],\n",
       "        [6, 7, 9]],\n",
       "\n",
       "       [[2, 3, 4],\n",
       "        [4, 2, 5],\n",
       "        [5, 6, 7]]])"
      ]
     },
     "execution_count": 32,
     "metadata": {},
     "output_type": "execute_result"
    }
   ],
   "source": [
    "a3"
   ]
  },
  {
   "cell_type": "code",
   "execution_count": 33,
   "id": "e6f05a39",
   "metadata": {},
   "outputs": [
    {
     "data": {
      "text/plain": [
       "array([[[ 1,  4,  9],\n",
       "        [ 8, 20, 36],\n",
       "        [36, 49, 72]],\n",
       "\n",
       "       [[ 2,  6, 12],\n",
       "        [16, 10, 30],\n",
       "        [30, 42, 56]]])"
      ]
     },
     "execution_count": 33,
     "metadata": {},
     "output_type": "execute_result"
    }
   ],
   "source": [
    "a2*a3"
   ]
  },
  {
   "cell_type": "code",
   "execution_count": 34,
   "id": "75dfcea4",
   "metadata": {},
   "outputs": [
    {
     "data": {
      "text/plain": [
       "array([[[ 1,  4,  9],\n",
       "        [ 2,  8, 18],\n",
       "        [ 6, 14, 27]],\n",
       "\n",
       "       [[ 2,  6, 12],\n",
       "        [ 4,  4, 15],\n",
       "        [ 5, 12, 21]]])"
      ]
     },
     "execution_count": 34,
     "metadata": {},
     "output_type": "execute_result"
    }
   ],
   "source": [
    "a1*a3"
   ]
  },
  {
   "cell_type": "code",
   "execution_count": 36,
   "id": "0d7d2b49",
   "metadata": {},
   "outputs": [],
   "source": [
    "a9=np.array([[1, 2, 3],\n",
    "       [4, 5, 6]\n",
    "       ])"
   ]
  },
  {
   "cell_type": "code",
   "execution_count": 37,
   "id": "d7a5e3d1",
   "metadata": {},
   "outputs": [
    {
     "ename": "ValueError",
     "evalue": "operands could not be broadcast together with shapes (2,3) (2,3,3) ",
     "output_type": "error",
     "traceback": [
      "\u001b[1;31m---------------------------------------------------------------------------\u001b[0m",
      "\u001b[1;31mValueError\u001b[0m                                Traceback (most recent call last)",
      "Cell \u001b[1;32mIn[37], line 1\u001b[0m\n\u001b[1;32m----> 1\u001b[0m a9\u001b[38;5;241m*\u001b[39ma3\n",
      "\u001b[1;31mValueError\u001b[0m: operands could not be broadcast together with shapes (2,3) (2,3,3) "
     ]
    }
   ],
   "source": [
    "a9*a3"
   ]
  },
  {
   "cell_type": "code",
   "execution_count": 40,
   "id": "78832f29",
   "metadata": {},
   "outputs": [
    {
     "name": "stdout",
     "output_type": "stream",
     "text": [
      "[[[ 1  2  3]\n",
      "  [ 4  8 12]\n",
      "  [18 21 27]]\n",
      "\n",
      " [[ 8 12 16]\n",
      "  [20 10 25]\n",
      "  [30 36 42]]]\n"
     ]
    }
   ],
   "source": [
    "a9 = np.array([[1, 2, 3],\n",
    "               [4, 5, 6]])\n",
    "a3 = np.array([[[1, 2, 3],\n",
    "                [2, 4, 6],\n",
    "                [6, 7, 9]],\n",
    "               [[2, 3, 4],\n",
    "                [4, 2, 5],\n",
    "                [5, 6, 7]]])\n",
    "a9 = a9.reshape((2, 3,1))\n",
    "\n",
    "result = a3 * a9\n",
    "print(result)\n"
   ]
  },
  {
   "cell_type": "code",
   "execution_count": 43,
   "id": "8d15a198",
   "metadata": {},
   "outputs": [
    {
     "data": {
      "text/plain": [
       "array([[1, 2, 3],\n",
       "       [4, 5, 6],\n",
       "       [6, 7, 8]])"
      ]
     },
     "execution_count": 43,
     "metadata": {},
     "output_type": "execute_result"
    }
   ],
   "source": [
    "a2"
   ]
  },
  {
   "cell_type": "code",
   "execution_count": 42,
   "id": "199c37f4",
   "metadata": {},
   "outputs": [
    {
     "data": {
      "text/plain": [
       "array([1, 2, 3])"
      ]
     },
     "execution_count": 42,
     "metadata": {},
     "output_type": "execute_result"
    }
   ],
   "source": [
    "a1"
   ]
  },
  {
   "cell_type": "code",
   "execution_count": 41,
   "id": "3c5df71d",
   "metadata": {},
   "outputs": [
    {
     "data": {
      "text/plain": [
       "array([[1.        , 1.        , 1.        ],\n",
       "       [4.        , 2.5       , 2.        ],\n",
       "       [6.        , 3.5       , 2.66666667]])"
      ]
     },
     "execution_count": 41,
     "metadata": {},
     "output_type": "execute_result"
    }
   ],
   "source": [
    "a2/a1"
   ]
  },
  {
   "cell_type": "code",
   "execution_count": 44,
   "id": "6fd3a518",
   "metadata": {},
   "outputs": [
    {
     "data": {
      "text/plain": [
       "array([[1, 1, 1],\n",
       "       [4, 2, 2],\n",
       "       [6, 3, 2]])"
      ]
     },
     "execution_count": 44,
     "metadata": {},
     "output_type": "execute_result"
    }
   ],
   "source": [
    "a2//a1"
   ]
  },
  {
   "cell_type": "code",
   "execution_count": 45,
   "id": "c76449cd",
   "metadata": {},
   "outputs": [
    {
     "data": {
      "text/plain": [
       "array([[[1],\n",
       "        [2],\n",
       "        [3]],\n",
       "\n",
       "       [[4],\n",
       "        [5],\n",
       "        [6]]])"
      ]
     },
     "execution_count": 45,
     "metadata": {},
     "output_type": "execute_result"
    }
   ],
   "source": [
    "a9"
   ]
  },
  {
   "cell_type": "code",
   "execution_count": null,
   "id": "e24b4ad3",
   "metadata": {},
   "outputs": [],
   "source": []
  }
 ],
 "metadata": {
  "kernelspec": {
   "display_name": "Python 3 (ipykernel)",
   "language": "python",
   "name": "python3"
  },
  "language_info": {
   "codemirror_mode": {
    "name": "ipython",
    "version": 3
   },
   "file_extension": ".py",
   "mimetype": "text/x-python",
   "name": "python",
   "nbconvert_exporter": "python",
   "pygments_lexer": "ipython3",
   "version": "3.11.3"
  }
 },
 "nbformat": 4,
 "nbformat_minor": 5
}
